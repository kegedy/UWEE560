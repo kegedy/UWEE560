{
 "cells": [
  {
   "cell_type": "markdown",
   "metadata": {},
   "source": [
    "# Kevin Egedy\n",
    "## EE 560 P: Electric Machines and Drives    \n",
    "## Homework 02\n",
    "### Due 23 November, 2020\n",
    "\n",
    "Copyright &copy; 2020, University of Washington\n",
    "\n",
    "<hr>"
   ]
  },
  {
   "cell_type": "markdown",
   "metadata": {},
   "source": [
    "#### Basic Equations DC Machines\n",
    "\n",
    "<hr>"
   ]
  },
  {
   "cell_type": "markdown",
   "metadata": {},
   "source": [
    "**Armatur Circuit**\n",
    "\n",
    "$\\begin{eqnarray}\n",
    "& v_a &=& R_a i_a + L_a \\frac{di_a}{dt} + e_a \\\\[0.5em]\n",
    "& v_a &:& \\text{armature voltage} \\\\\n",
    "& i_a &:& \\text{armature current} \\\\\n",
    "& R_a &:& \\text{armature winding resistance} \\\\\n",
    "& L_a &:& \\text{armature winding inductance} \\\\\n",
    "& e_a &:& \\text{back electro motive force (EMF)} \\\\\n",
    "\\end{eqnarray}$\n",
    "\n",
    "<hr>"
   ]
  },
  {
   "cell_type": "markdown",
   "metadata": {},
   "source": [
    "**Field Circuit**\n",
    "\n",
    "$\\begin{eqnarray}\n",
    "& v_f &=& R_f i_f + L_f \\frac{di_f}{dt} \\\\[0.5em]\n",
    "& v_f &:& \\text{field voltage} \\\\\n",
    "& i_f &:& \\text{field current} \\\\\n",
    "& R_f &:& \\text{field winding resistance} \\\\\n",
    "& L_f &:& \\text{field winding inductance} \\\\\n",
    "\\end{eqnarray}$\n",
    "\n",
    "<hr>"
   ]
  },
  {
   "cell_type": "markdown",
   "metadata": {},
   "source": [
    "**Back EMF**\n",
    "\n",
    "$\\begin{eqnarray}\n",
    "& e_a &=& K_f i_f \\omega = K_e \\omega \\\\[0.5em]\n",
    "& K_f &:& \\text{field constant (geometry dependent)} \\\\\n",
    "& i_f &:& \\text{field current} \\\\\n",
    "& \\omega &:& \\text{rotor speed} \\\\\n",
    "& K_e &:& \\text{back EMF constant (at a fixed field current), } & K_e = K_f i_f\\\\\n",
    "\\end{eqnarray}$\n",
    "\n",
    "<hr>"
   ]
  },
  {
   "cell_type": "markdown",
   "metadata": {},
   "source": [
    "**Torque Equation** \n",
    "\n",
    "$\\begin{eqnarray}\n",
    "& t_{em} &=& K_f i_f i_a = K_t i_a \\\\[0.5em]\n",
    "& t_{em} &:& \\text{electromagnetic torque produced by motor} \\\\\n",
    "& K_f &:& \\text{field constant (geometry dependent)} \\\\\n",
    "& i_f &:& \\text{armature current} \\\\\n",
    "& i_a &:& \\text{armature current} \\\\\n",
    "& K_t &:& \\text{torque constant (at a fixed field current, )} & K_t = \\phi_f = K_f i_f\\\\\n",
    "\\end{eqnarray}$\n",
    "\n",
    "<hr>"
   ]
  },
  {
   "cell_type": "markdown",
   "metadata": {},
   "source": [
    "**Mechanical Equation**\n",
    "\n",
    "$\\begin{eqnarray}\n",
    "& J \\frac{d\\omega}{dt} + b\\omega + t_L &=& t_{em}\\\\[0.5em]\n",
    "\\end{eqnarray}$\n",
    "\n",
    "$\\begin{eqnarray}\n",
    "& J &:& \\text{total rotation inertia} \\\\\n",
    "& \\omega &:& \\text{rotor speed} \\\\\n",
    "& t_{em} &:& \\text{electromagnetic torque produced by motor} \\\\\n",
    "& b &:& \\text{viscous damping coeff} \\\\\n",
    "& t_L &:& \\text{load torque} \\\\\n",
    "\\end{eqnarray}$"
   ]
  },
  {
   "cell_type": "markdown",
   "metadata": {},
   "source": [
    "**Steady State Operation with Constant Flux**\n",
    "\n",
    "$\\begin{eqnarray}\n",
    "& i_f &=& I_F \\\\\n",
    "& i_a &=& I_a \\\\ \n",
    "& \\omega &=& \\text{constant} \\\\\n",
    "& V_f &=& R_f I_f \\\\\n",
    "& V_a &=& R_a I_a + E_a \\\\\n",
    "& T_{em} &=& K_t I_a \\\\\n",
    "\\end{eqnarray}$\n",
    "\n",
    "<hr>"
   ]
  },
  {
   "cell_type": "markdown",
   "metadata": {},
   "source": [
    "**Speed-Torque Characteristics**\n",
    "\n",
    "Given:<br>\n",
    "$\\begin{eqnarray}\n",
    "& e_a &=& E_a \\\\\n",
    "& v_a &=& V_a \\\\\n",
    "& \\phi_f &=& \\text{constant} \\\\\n",
    "& K_e = K_t &=& \\text{constant} \\\\\n",
    "\\end{eqnarray}$\n",
    "\n",
    "$\\begin{eqnarray}\n",
    "& \\omega_{NL} &=& \\frac{E_a}{K_e} &=& \\frac{V_a - I_a R_a}{K_e}\\Bigg|_{I_a = t_{em}/K_t} &=& \\frac{V_a}{K_e}-\\frac{R_a}{K_e K_t}t_{em} & \\text{[Speed rad/sec]} \\\\[0.5em]\n",
    "& t_{em} &=& K_t I_a &=& K_t \\frac{V_a-E_a}{R_a} &=& \\frac{K_t}{R_a}V_a - \\frac{K_e K_t}{R_a}\\omega_{NL} & \\text{[Torque }N\\cdot m\\text{]} \\\\[0.5em]\n",
    "\\end{eqnarray}$\n",
    "\n",
    "Motor Constant $K_m$  $[\\frac{\\text{Torque}}{\\sqrt{\\text{Watt}}}]$\n",
    "\n",
    "$\\begin{eqnarray}\n",
    "& K_m^2 &=& \\frac{K_e K_t}{R_a} &=& \\frac{K_e K_t}{R_a}\\frac{I_a^2}{I_a^2} &=& \\frac{T_{em}^2}{P_{\\text{LOSS}}} \\\\[0.5em]\n",
    "& K_m &=& \\frac{T_{em}}{\\sqrt{P_{\\text{LOSS}}}} \n",
    "\\end{eqnarray}$\n",
    "\n",
    "$\\begin{eqnarray}\n",
    "& \\text{slope} &=& \\frac{-R_a}{K_e K_t} &=& \\frac{-1}{K_m^2}\n",
    "\\end{eqnarray}$\n",
    "\n",
    "<hr>"
   ]
  },
  {
   "cell_type": "markdown",
   "metadata": {},
   "source": [
    "**Series Wound DC Motor**\n",
    "\n",
    "(Steady State)\n",
    "\n",
    "$\\begin{eqnarray}\n",
    "& T_{SS}(\\omega) &\\propto& \\frac{V_a^2}{\\omega^2} \\\\\n",
    "& T_{SS}(\\omega) &=& \\frac{K_f V_a^2}{(R_a+R_f+K_f \\omega)^2} \\\\[0.5em]\n",
    "& E_a &=& K_e \\omega = I K_f \\omega \\\\[0.5em]\n",
    "& V_{SS} &=& (R_a + R_f)I + E_a &=& (R_a + R_f)I + I K_f \\omega \\\\[0.5em]\n",
    "& I &=& \\frac{V_{SS}}{R_a + R_f + K_f \\omega} \\\\[0.5em]\n",
    "& T_{em} &=& K_t I = K_f I^2 \\\\[0.5em]\n",
    "& &=& \\frac{V_{SS}^2}{(R_a + R_f + K_f \\omega)^2}\n",
    "\\end{eqnarray}$\n",
    "\n",
    "<hr>"
   ]
  },
  {
   "cell_type": "markdown",
   "metadata": {},
   "source": [
    "**Dynamics**\n",
    "\n",
    "Laplace: $\\frac{d}{dt} \\rightarrow p$ <br>\n",
    "\n",
    "$\\begin{align}\n",
    "  \\begin{array}{ll}\n",
    "  \\text{Equation} & \\text{Time Domain Representation} & \\text{LaPlace Domain Representation} \\\\[0.5em]\n",
    "  \\text{Armature} & v_a(t) = R_a i_a(t) + L_a \\frac{di_a(t)}{dt} + e_a(t) & V_a(p) = R_a I_a(p) + L_a I_a(p)p  + E_a(p) \\\\[0.5em]\n",
    "  \\text{Field} & v_f(t) = R_f i_f(t) + L_f \\frac{di_f(t)}{dt} & V_f(p) = R_f I_f(p) + L_f  I_f(p)p \\\\[0.5em]\n",
    "  \\text{Mechanical} & J\\frac{d\\omega(t)}{dt} + b\\omega(t) + t_L(t) = t_{em}(t) & J\\Omega(p)p + b\\Omega(p) + T_L(p) = T_{em}(p)\n",
    "  \\end{array}\n",
    "\\end{align}$"
   ]
  },
  {
   "cell_type": "markdown",
   "metadata": {},
   "source": [
    "**Dynamic Model**\n",
    "\n",
    "<img src=\"images/BlockDiagramDCMotor.png\" width=\"500\"/>"
   ]
  },
  {
   "cell_type": "markdown",
   "metadata": {},
   "source": [
    "$\\begin{eqnarray}\n",
    "& \\Omega &=& \\frac{K_t}{JL_a  p^2 + (L_a b + JR_a)p + K_e K_t + bR_a}V_a - \\frac{L_a p + R_a}{JL_a p^2 + (L_a b + JR_a)p + K_e K_t + bR_a}T_L \\\\[0.5em]\n",
    "& \\frac{\\Omega}{V_a} &=& \\frac{K_t}{JL_a  p^2 + (L_a b + JR_a)p + K_e K_t + bR_a} \\text{ [speed/voltage]}\\\\[0.5em]\n",
    "& \\frac{\\Omega}{T_L} &=& \\frac{L_a p + R_a}{JL_a p^2 + (L_a b + JR_a)p + K_e K_t + bR_a} \\text{ [speed/load]}\\\\[0.5em]\n",
    "\\end{eqnarray}$\n",
    "\n",
    "$\\begin{eqnarray}\n",
    "& \\text{Let} \\\\\n",
    "&& K &=& K_e = K_t \\\\\n",
    "&& b &=& 0 &\\text{ [viscous damping]} \\\\\n",
    "& \\text{Then}\n",
    "\\end{eqnarray}$\n",
    "\n",
    "$\\begin{eqnarray}\n",
    "& \\frac{\\Omega}{V_a} &=& \\frac{\\frac{K}{JR_a}}{p^2+\\frac{R_a}{L_a}p+ \\frac{K^2}{JL_a}} \\\\[0.5em]\n",
    "& &=& \\frac{\\frac{K}{JR_a}}{p^2+\\frac{1}{\\tau_e}p+ \\frac{1}{\\tau_m \\tau_e}} \\text{ [speed/voltage]} \\\\[0.5em]\n",
    "& \\tau_e &=& \\frac{L_a}{R_a} \\text{ electrical time constant} \\\\[0.5em]\n",
    "& \\tau_m &=& \\frac{JR_a}{K^2} \\text{ equivalent electromechanical time constant if electrical transients are very fast}\n",
    "\\end{eqnarray}$\n",
    "\n",
    "<hr>"
   ]
  },
  {
   "cell_type": "markdown",
   "metadata": {},
   "source": [
    "**Continuing** \n",
    "\n",
    "$\\begin{eqnarray}\n",
    "& \\text{If} \\\\\n",
    "&& L_a &=& 0 \\text{ [armature inductance]} \\\\\n",
    "& \\text{Then}\n",
    "\\end{eqnarray}$\n",
    "\n",
    "$\\begin{eqnarray}\n",
    "& \\frac{\\Omega}{V_a} &=& \\frac{\\frac{K}{JR_a}}{p+\\frac{K^2}{JR_a}}  \\\\[0.5em]\n",
    "& &=& \\frac{\\frac{1}{K}\\frac{R_a}{L_a}\\frac{K^2}{JR_a}}{p^2+\\frac{1}{\\tau_e}p+ \\frac{1}{\\tau_m \\tau_e}} \\\\[0.5em]\n",
    "& &=& \\frac{\\frac{1}{K \\tau_m \\tau_e}}{p^2+\\frac{1}{\\tau_e}p+ \\frac{1}{\\tau_m \\tau_e}} \\text{ [speed/voltage]} \\\\\n",
    "\\end{eqnarray}$\n",
    "\n",
    "<hr>"
   ]
  },
  {
   "cell_type": "markdown",
   "metadata": {},
   "source": [
    "**Roots**\n",
    "\n",
    "$\\begin{eqnarray}\n",
    "& p &=& -\\frac{1}{2\\tau_e} \\pm \\sqrt{\\frac{1}{4\\tau_e^2}-\\frac{1}{\\tau_e \\tau_m}} \\\\[0.5em]\n",
    "& &=& -\\frac{1}{2\\tau_e} \\pm \\frac{1}{\\tau_e} \\sqrt{\\frac{1}{4}-\\frac{\\tau_e}{\\tau_m}} \\\\[0.5em]\n",
    "\\end{eqnarray}$\n",
    "\n",
    "$\\begin{eqnarray}\n",
    "& \\text{real roots:} && \\frac{\\tau_e}{\\tau_m} \\leq \\frac{1}{4} &\\rightarrow& \\tau_e \\leq \\frac{1}{4}\\tau_m \\\\[0.5em]\n",
    "& \\text{complex roots:} && \\frac{\\tau_e}{\\tau_m} \\geq \\frac{1}{4} &\\rightarrow& \\tau_e \\geq \\frac{1}{4}\\tau_m \\\\[0.5em]\n",
    "\\end{eqnarray}$\n",
    "\n",
    "<hr>"
   ]
  },
  {
   "cell_type": "code",
   "execution_count": 1,
   "metadata": {},
   "outputs": [],
   "source": [
    "# Imports\n",
    "import sympy as sp\n",
    "import numpy as np\n",
    "import pandas as pd\n",
    "import control\n",
    "from scipy import signal\n",
    "from scipy import linalg\n",
    "from IPython.core.interactiveshell import InteractiveShell\n",
    "InteractiveShell.ast_node_interactivity = \"all\"\n",
    "pd.set_option(\"display.max_rows\", 101)\n",
    "import matplotlib.pyplot as plt\n",
    "from pylab import rcParams\n",
    "%matplotlib inline\n",
    "\n",
    "# Constants\n",
    "Vf = 360\n",
    "radsec2rpm = 30/np.pi"
   ]
  },
  {
   "cell_type": "markdown",
   "metadata": {},
   "source": [
    "#### 1W Motor"
   ]
  },
  {
   "cell_type": "code",
   "execution_count": 2,
   "metadata": {},
   "outputs": [
    {
     "data": {
      "text/plain": [
       "(0.002772808586762075, 0.011471174439065748)"
      ]
     },
     "execution_count": 2,
     "metadata": {},
     "output_type": "execute_result"
    },
    {
     "data": {
      "text/plain": [
       "3.584742012208046"
      ]
     },
     "execution_count": 2,
     "metadata": {},
     "output_type": "execute_result"
    }
   ],
   "source": [
    "# 1W Motor\n",
    "Va1 = 170\n",
    "If1 = 0.52\n",
    "Rf1 = Vf/If1\n",
    "Lf1 = 0.15\n",
    "Ra1 = 5.59\n",
    "La1 = 15.5e-3\n",
    "wn1 = 1300*np.pi/30\n",
    "Tr1 = 7.0\n",
    "J1= 3.2e-3\n",
    "b1 = 1e-4\n",
    "Ke1 = Va1/wn1\n",
    "Kf1 = Ke1/If1\n",
    "Kt1 = Kf1*If1\n",
    "K = Ke1\n",
    "TauE = La1/Ra1\n",
    "TauM = J1*Ra1/(K**2)\n",
    "TauE, TauM\n",
    "Ra1/(Ke1*Kt1)"
   ]
  },
  {
   "cell_type": "code",
   "execution_count": 3,
   "metadata": {},
   "outputs": [
    {
     "data": {
      "text/plain": [
       "array([-213.06960861, -147.60680268])"
      ]
     },
     "execution_count": 3,
     "metadata": {},
     "output_type": "execute_result"
    },
    {
     "data": {
      "text/plain": [
       "array([-213.13994764, -147.50521365])"
      ]
     },
     "execution_count": 3,
     "metadata": {},
     "output_type": "execute_result"
    }
   ],
   "source": [
    "# Roots Scypi\n",
    "# Include damping and armature inductance!\n",
    "num1 = [K]\n",
    "den1 = [J1*La1, La1*b1+J1*Ra1, K**2+b1*Ra1]\n",
    "tf1 = signal.TransferFunction(num1, den1)\n",
    "tf1.poles\n",
    "\n",
    "# Without damping and armature inductance\n",
    "# simple model\n",
    "num1_s = [1/(K*TauE*TauM)]\n",
    "den1_s = [1, (1/TauE), 1/(TauE*TauM)]\n",
    "tf1_s = signal.TransferFunction(num1_s, den1_s)\n",
    "tf1_s.poles\n",
    "\n",
    "T = np.linspace(0,0.25,1000)\n",
    "t1, y1 = signal.step2(tf1,T=T)"
   ]
  },
  {
   "cell_type": "markdown",
   "metadata": {},
   "source": [
    "#### 90.8 W Motor"
   ]
  },
  {
   "cell_type": "code",
   "execution_count": 4,
   "metadata": {},
   "outputs": [
    {
     "data": {
      "text/plain": [
       "0.04197846862467119"
      ]
     },
     "execution_count": 4,
     "metadata": {},
     "output_type": "execute_result"
    }
   ],
   "source": [
    "# 90.8W Motor\n",
    "Va91 = 460\n",
    "If91 = 3.5\n",
    "Rf91 = Vf/If91\n",
    "Lf91 = 0.015\n",
    "Ra91 = 0.09\n",
    "La91 = 1.0e-3\n",
    "wn91 = 3000*np.pi/30\n",
    "Tr91 = 289\n",
    "J91= 0.2452\n",
    "b91 = 1e-3\n",
    "Ke91 = Va91/wn91\n",
    "Kf91 = Ke91/If91\n",
    "Kt91 = Kf91*If91\n",
    "K = Ke91\n",
    "\n",
    "Ra91/(Ke91*Kt91)"
   ]
  },
  {
   "cell_type": "code",
   "execution_count": 5,
   "metadata": {},
   "outputs": [
    {
     "data": {
      "text/plain": [
       "array([-45.00203915+81.96882103j, -45.00203915-81.96882103j])"
      ]
     },
     "execution_count": 5,
     "metadata": {},
     "output_type": "execute_result"
    }
   ],
   "source": [
    "# Roots Scypi\n",
    "# Include damping and armature inductance!\n",
    "\n",
    "num91 = [K]\n",
    "den91 = [J91*La91, La91*b91+J91*Ra91, K**2+b91*Ra91]\n",
    "tf91 = signal.TransferFunction(num91, den91)\n",
    "tf91.poles\n",
    "\n",
    "T = np.linspace(0,0.25,1000)\n",
    "t91, y91 = signal.step2(tf91,T=T)"
   ]
  },
  {
   "cell_type": "markdown",
   "metadata": {},
   "source": [
    "#### Speed Torque\n"
   ]
  },
  {
   "cell_type": "markdown",
   "metadata": {},
   "source": [
    "Given:<br>\n",
    "$\\begin{eqnarray}\n",
    "& e_a &=& E_a \\\\\n",
    "& v_a &=& V_a \\\\\n",
    "& \\phi_f &=& \\text{constant} \\\\\n",
    "& K_e = K_t &=& \\text{constant} \\\\\n",
    "\\end{eqnarray}$\n",
    "\n",
    "$\\begin{eqnarray}\n",
    "& \\omega_{NL} &=& \\frac{E_a}{K_e} &=& \\frac{V_a - I_a R_a}{K_e}\\Bigg|_{I_a = t_{em}/K_t} &=& \\frac{V_a}{K_e}-\\frac{R_a}{K_e K_t}t_{em} & \\text{[Speed rad/sec]} \\\\[0.5em]\n",
    "& t_{em} &=& K_t I_a &=& K_t \\frac{V_a-E_a}{R_a} &=& \\frac{K_t}{R_a}V_a - \\frac{K_e K_t}{R_a}\\omega_{NL} & \\text{[Torque }N\\cdot m\\text{]} \\\\[0.5em]\n",
    "\\end{eqnarray}$"
   ]
  },
  {
   "cell_type": "code",
   "execution_count": 6,
   "metadata": {},
   "outputs": [],
   "source": [
    "# Find stall values\n",
    "T = sp.symbols('T')\n",
    "sol = sp.solve(sp.Matrix([(Va1/Ke1) - (Ra1/(Ke1*Kt1))*T]))\n",
    "n1 = float(list(dict(sol).values())[0])\n",
    "sol = sp.solve(sp.Matrix([(Va91/Ke91) - (Ra91/(Ke91*Kt91))*T]))\n",
    "n91 = float(list(dict(sol).values())[0])\n",
    "\n",
    "# Speed Torque Equations\n",
    "speed_radsec1 = lambda T: (Va1/Ke1) - (Ra1/(Ke1*Kt1))*T\n",
    "speed_radsec91 = lambda T: (Va91/Ke91) - (Ra91/(Ke91*Kt91))*T"
   ]
  },
  {
   "cell_type": "code",
   "execution_count": 7,
   "metadata": {},
   "outputs": [
    {
     "data": {
      "image/png": "[encoded data removed]",
      "text/plain": [
       "<Figure size 864x864 with 4 Axes>"
      ]
     },
     "metadata": {
      "needs_background": "light"
     },
     "output_type": "display_data"
    }
   ],
   "source": [
    "# Plot Results in 1 Graph\n",
    "fig,axs = plt.subplots(2,2, figsize=(12,12))\n",
    "\n",
    "axs[0, 0].scatter(np.real(tf1.poles),np.imag(tf1.poles),marker='x')\n",
    "axs[0, 0].set_xlim(-250, 0)\n",
    "axs[0, 0].set_ylim(50, -50)\n",
    "axs[0, 0].set_title('1W Motor Eigenvalues')\n",
    "axs[0, 0].set(xlabel='$\\operatorname{Re}(z)$', ylabel='$\\operatorname{Im}(z)$')\n",
    "\n",
    "axs[0, 1].plot(t1, y1*170*30/np.pi)\n",
    "axs[0, 1].set_title('1W Motor Step Response (V=170)')\n",
    "axs[0, 1].set(xlabel='Time(s)', ylabel=r'Speed (rpm)')\n",
    "\n",
    "axs[1, 0].scatter(np.real(tf91.poles),np.imag(tf91.poles),marker='x',color='tab:orange')\n",
    "axs[1, 0].set_xlim(-50, 0)\n",
    "axs[1, 0].set_ylim(100, -100)\n",
    "axs[1, 0].set_title('90.8W Motor Eigenvalues')\n",
    "axs[1, 0].set(xlabel='$\\operatorname{Re}(z)$', ylabel='$\\operatorname{Im}(z)$')\n",
    "\n",
    "axs[1, 1].plot(t91, y91*460*30/np.pi,color='tab:orange')\n",
    "axs[1, 1].set_title('90.8W Motor Step Response (V=460)')\n",
    "axs[1, 1].set(xlabel='Time(s)', ylabel=r'Speed (rpm)')\n",
    "\n",
    "for ax in axs.flat:\n",
    "    ax.grid(True)\n",
    "    \n",
    "# Hide x labels and tick labels for top plots and y ticks for right plots.\n",
    "#for ax in axs.flat:\n",
    "#    ax.label_outer()\n",
    "\n",
    "plt.show();"
   ]
  },
  {
   "cell_type": "code",
   "execution_count": 8,
   "metadata": {},
   "outputs": [],
   "source": [
    "y0 = speed_radsec1(0)*radsec2rpm\n",
    "label0 = f\"(0, {round(y0,2)})\"\n",
    "y1 = speed_radsec1(n1)*radsec2rpm\n",
    "label1 = f\"({round(n1,2)}, {abs(round(y1,2))})\"\n",
    "y2 = speed_radsec91(0)*radsec2rpm\n",
    "label2 = f\"(0, {round(y2,2)})\"\n",
    "y3 = speed_radsec91(n91)*radsec2rpm\n",
    "label3 = f\"({round(n91,2)}, {round(y3,2)})\""
   ]
  },
  {
   "cell_type": "code",
   "execution_count": 9,
   "metadata": {},
   "outputs": [
    {
     "data": {
      "image/png": "[encoded data removed]",
      "text/plain": [
       "<Figure size 720x720 with 2 Axes>"
      ]
     },
     "metadata": {
      "needs_background": "light"
     },
     "output_type": "display_data"
    }
   ],
   "source": [
    "fig,axs = plt.subplots(2,1,figsize=(10,10))\n",
    "T1 = np.linspace(0,n1,100)\n",
    "T91 = np.linspace(0,n91,100)\n",
    "\n",
    "axs[0].plot(T1,speed_radsec1(T1)*radsec2rpm)\n",
    "axs[0].scatter(0,y0,label=label0,color='tab:blue')\n",
    "axs[0].scatter(n1,y1,label=label1,color='tab:blue')\n",
    "#axs[0, 0].set_xlim(-250, 0)\n",
    "#axs[0, 0].set_ylim(50, -50)\n",
    "axs[0].set_title('1W Motor Speed Torque')\n",
    "axs[0].set(xlabel=r'Torque (N $\\cdot$ m)', ylabel=r'Speed (rpm)')\n",
    "\n",
    "axs[1].plot(T91,speed_radsec91(T91)*radsec2rpm,color='tab:orange')\n",
    "axs[1].scatter(0,y2,label=label2,color='tab:orange')\n",
    "axs[1].scatter(n91,y3,label=label3,color='tab:orange')\n",
    "#axs[1].set_xlim(-50, 0)\n",
    "#axs[1].set_ylim(100, -100)\n",
    "axs[1].set_title('90.8W Motor Speed Torque')\n",
    "axs[1].set(xlabel=r'Torque (N $\\cdot$ m)', ylabel=r'Speed (rpm)')\n",
    "\n",
    "for ax in axs.flat:\n",
    "    ax.grid(True)\n",
    "    ax.legend()\n",
    "plt.show();"
   ]
  },
  {
   "cell_type": "markdown",
   "metadata": {},
   "source": [
    "<hr>\n",
    "\n",
    "**HW02**\n",
    "\n",
    "<hr>"
   ]
  },
  {
   "cell_type": "markdown",
   "metadata": {},
   "source": [
    "**Locked DC Motor**\n",
    "\n",
    "<img src=\"images/Locked_Rotor_DC_Motor_PLECS.png\" width=\"600\"/>\n",
    "\n",
    "**PI Current Regulator for DC Motor (no voltage amplifier)**\n",
    "\n",
    "<img src=\"images/PI_Current_Controller_DC_Motor.png\" width=\"500\"/>\n",
    "\n",
    "(expanded)\n",
    "\n",
    "<img src=\"images/PI_Current_Regulator_DC_Motor.png\" width=\"500\"/>\n",
    "\n",
    "**Tuning**\n",
    "\n",
    "<img src=\"images/TuneCurrentLoop1.png\" width=\"400\"/>\n",
    "\n",
    "$\\tau_c = \\frac{K_p}{K_i}, \\tau_e = \\frac{L_a}{R_a}$\n",
    "\n",
    "<img src=\"images/TuneCurrentLoop2.png\" width=\"400\"/>\n",
    "\n",
    "$\\tau_c = \\tau_e$\n",
    "\n",
    "<img src=\"images/TuneCurrentLoop3.png\" width=\"300\"/>\n",
    "\n",
    "\n",
    "<img src=\"images/TuneCurrentLoop4.png\" width=\"200\"/>\n",
    "\n",
    "**Add Voltage Amplifier...**\n",
    "\n"
   ]
  },
  {
   "cell_type": "markdown",
   "metadata": {},
   "source": [
    "**Bandwidth**\n",
    "\n",
    "$\\begin{eqnarray}\n",
    "& \\frac{I}{I^\\ast} &=& \\frac{K_{tot}}{K_{tot}+1} \\\\[0.5em]\n",
    "& K_{tot} &=& \\frac{K_i K_v}{R_a} \\\\[0.5em]\n",
    "& \\frac{K_p}{K_i} &=& \\frac{L_a}{R_a} \\\\[0.5em]\n",
    "& K_i &=& 2\\pi f R_a / K_v && (\\text{integral gain}) \\\\\n",
    "& K_p &=& 2\\pi f L_a / K_v && (\\text{proportional gain}) \\\\\n",
    "\\end{eqnarray}$"
   ]
  },
  {
   "cell_type": "code",
   "execution_count": 10,
   "metadata": {},
   "outputs": [],
   "source": [
    "# Constants\n",
    "f = 1000\n",
    "Kv = 680"
   ]
  },
  {
   "cell_type": "markdown",
   "metadata": {},
   "source": [
    "#### 1W Motor"
   ]
  },
  {
   "cell_type": "code",
   "execution_count": 25,
   "metadata": {},
   "outputs": [],
   "source": [
    "# 1W Motor\n",
    "Va1 = 170\n",
    "If1 = 0.52\n",
    "Rf1 = Vf/If1\n",
    "Lf1 = 0.15\n",
    "Ra1 = 5.59\n",
    "La1 = 15.5e-3\n",
    "wn1 = 1300*np.pi/30\n",
    "Tr1 = 7.0\n",
    "J1= 3.2e-3\n",
    "b1 = 1e-4\n",
    "Ke1 = Va1/wn1\n",
    "Kf1 = Ke1/If1\n",
    "Kt1 = Kf1*If1\n",
    "K = Ke1\n",
    "TauE = La1/Ra1\n",
    "TauM = J1*Ra1/(K**2)"
   ]
  },
  {
   "cell_type": "code",
   "execution_count": 26,
   "metadata": {},
   "outputs": [
    {
     "data": {
      "text/plain": [
       "{Ki: 51.6514792163734}"
      ]
     },
     "execution_count": 26,
     "metadata": {},
     "output_type": "execute_result"
    },
    {
     "data": {
      "text/plain": [
       "{Kp: 0.143219665090123}"
      ]
     },
     "execution_count": 26,
     "metadata": {},
     "output_type": "execute_result"
    }
   ],
   "source": [
    "# Gain\n",
    "Ki = sp.symbols('Ki')\n",
    "H = sp.Matrix([Ki - 2*np.pi*f*Ra1/Kv])\n",
    "sols = sp.solve(H)\n",
    "sols\n",
    "\n",
    "Kp = sp.symbols('Kp')\n",
    "H = sp.Matrix([Kp - 2*np.pi*f*La1/Kv])\n",
    "sols = sp.solve(H)\n",
    "sols"
   ]
  },
  {
   "cell_type": "markdown",
   "metadata": {},
   "source": [
    "#### 90.8 W Motor"
   ]
  },
  {
   "cell_type": "code",
   "execution_count": 23,
   "metadata": {},
   "outputs": [],
   "source": [
    "# 90.8W Motor\n",
    "Va91 = 460\n",
    "If91 = 3.5\n",
    "Rf91 = Vf/If91\n",
    "Lf91 = 0.015\n",
    "Ra91 = 0.09\n",
    "La91 = 1.0e-3\n",
    "wn91 = 3000*np.pi/30\n",
    "Tr91 = 289\n",
    "J91= 0.2452\n",
    "b91 = 1e-3\n",
    "Ke91 = Va91/wn91\n",
    "Kf91 = Ke91/If91\n",
    "Kt91 = Kf91*If91\n",
    "K = Ke91"
   ]
  },
  {
   "cell_type": "code",
   "execution_count": 28,
   "metadata": {},
   "outputs": [
    {
     "data": {
      "text/plain": [
       "{Ki: 0.831598055362004}"
      ]
     },
     "execution_count": 28,
     "metadata": {},
     "output_type": "execute_result"
    },
    {
     "data": {
      "text/plain": [
       "{Kp: 0.143219665090123}"
      ]
     },
     "execution_count": 28,
     "metadata": {},
     "output_type": "execute_result"
    }
   ],
   "source": [
    "# Gain\n",
    "Ki = sp.symbols('Ki')\n",
    "H = sp.Matrix([Ki - 2*np.pi*f*Ra91/Kv])\n",
    "sols = sp.solve(H)\n",
    "sols\n",
    "\n",
    "Kp = sp.symbols('Kp')\n",
    "H = sp.Matrix([Kp - 2*np.pi*f*La1/Kv])\n",
    "sols = sp.solve(H)\n",
    "sols"
   ]
  },
  {
   "cell_type": "code",
   "execution_count": null,
   "metadata": {},
   "outputs": [],
   "source": []
  }
 ],
 "metadata": {
  "kernelspec": {
   "display_name": "Python 3",
   "language": "python",
   "name": "python3"
  },
  "language_info": {
   "codemirror_mode": {
    "name": "ipython",
    "version": 3
   },
   "file_extension": ".py",
   "mimetype": "text/x-python",
   "name": "python",
   "nbconvert_exporter": "python",
   "pygments_lexer": "ipython3",
   "version": "3.7.4"
  }
 },
 "nbformat": 4,
 "nbformat_minor": 2
}
