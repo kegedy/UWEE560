{
 "cells": [
  {
   "cell_type": "markdown",
   "metadata": {},
   "source": [
    "# Kevin Egedy\n",
    "## EE 560 P: Electric Machines and Drives    \n",
    "## Homework 01\n",
    "### Due 2 November, 2020\n",
    "\n",
    "Copyright &copy; 2019, University of Washington\n",
    "\n",
    "<hr>"
   ]
  },
  {
   "cell_type": "markdown",
   "metadata": {},
   "source": [
    "#### Basic Equations DC Machines\n",
    "\n",
    "<hr>"
   ]
  },
  {
   "cell_type": "markdown",
   "metadata": {},
   "source": [
    "**Armatur Circuit**\n",
    "\n",
    "$\\begin{eqnarray}\n",
    "& v_a &=& R_a i_a + L_a \\frac{di_a}{dt} + e_a \\\\[0.5em]\n",
    "& v_a &:& \\text{armature voltage} \\\\\n",
    "& i_a &:& \\text{armature current} \\\\\n",
    "& R_a &:& \\text{armature winding resistance} \\\\\n",
    "& L_a &:& \\text{armature winding inductance} \\\\\n",
    "& e_a &:& \\text{back electro motive force (EMF)} \\\\\n",
    "\\end{eqnarray}$\n",
    "\n",
    "<hr>"
   ]
  },
  {
   "cell_type": "markdown",
   "metadata": {},
   "source": [
    "**Field Circuit**\n",
    "\n",
    "$\\begin{eqnarray}\n",
    "& v_f &=& R_f i_f + L_f \\frac{di_f}{dt} \\\\[0.5em]\n",
    "& v_f &:& \\text{field voltage} \\\\\n",
    "& i_f &:& \\text{field current} \\\\\n",
    "& R_f &:& \\text{field winding resistance} \\\\\n",
    "& L_f &:& \\text{field winding inductance} \\\\\n",
    "\\end{eqnarray}$\n",
    "\n",
    "<hr>"
   ]
  },
  {
   "cell_type": "markdown",
   "metadata": {},
   "source": [
    "**Back EMF**\n",
    "\n",
    "$\\begin{eqnarray}\n",
    "& e_a &=& K_f i_f \\omega = K_e \\omega \\\\[0.5em]\n",
    "& K_f &:& \\text{field constant (geometry dependent)} \\\\\n",
    "& i_f &:& \\text{field current} \\\\\n",
    "& \\omega &:& \\text{rotor speed} \\\\\n",
    "& K_e &:& \\text{back EMF constant (at a fixed field current), } & K_e = K_f i_f\\\\\n",
    "\\end{eqnarray}$\n",
    "\n",
    "<hr>"
   ]
  },
  {
   "cell_type": "markdown",
   "metadata": {},
   "source": [
    "**Torque Equation** \n",
    "\n",
    "$\\begin{eqnarray}\n",
    "& t_{em} &=& K_f i_f i_a = K_t i_a \\\\[0.5em]\n",
    "& t_{em} &:& \\text{electromagnetic torque produced by motor} \\\\\n",
    "& K_f &:& \\text{field constant (geometry dependent)} \\\\\n",
    "& i_f &:& \\text{armature current} \\\\\n",
    "& i_a &:& \\text{armature current} \\\\\n",
    "& K_t &:& \\text{torque constant (at a fixed field current, )} & K_t = \\phi_f = K_f i_f\\\\\n",
    "\\end{eqnarray}$\n",
    "\n",
    "<hr>"
   ]
  },
  {
   "cell_type": "markdown",
   "metadata": {},
   "source": [
    "**Mechanical Equation**\n",
    "\n",
    "$\\begin{eqnarray}\n",
    "& J \\frac{d\\omega}{dt} + b\\omega + t_L &=& t_{em}\\\\[0.5em]\n",
    "\\end{eqnarray}$\n",
    "\n",
    "$\\begin{eqnarray}\n",
    "& J &:& \\text{total rotation inertia} \\\\\n",
    "& \\omega &:& \\text{rotor speed} \\\\\n",
    "& t_{em} &:& \\text{electromagnetic torque produced by motor} \\\\\n",
    "& b &:& \\text{viscous damping coeff} \\\\\n",
    "& t_L &:& \\text{load torque} \\\\\n",
    "\\end{eqnarray}$"
   ]
  },
  {
   "cell_type": "markdown",
   "metadata": {},
   "source": [
    "**Steady State Operation with Constant Flux**\n",
    "\n",
    "$\\begin{eqnarray}\n",
    "& i_f &=& I_F \\\\\n",
    "& i_a &=& I_a \\\\ \n",
    "& \\omega &=& \\text{constant} \\\\\n",
    "& V_f &=& R_f I_f \\\\\n",
    "& V_a &=& R_a I_a + E_a \\\\\n",
    "& T_{em} &=& K_t I_a \\\\\n",
    "\\end{eqnarray}$\n",
    "\n",
    "<hr>"
   ]
  },
  {
   "cell_type": "markdown",
   "metadata": {},
   "source": [
    "**Speed-Torque Characteristics**\n",
    "\n",
    "Given:<br>\n",
    "$\\begin{eqnarray}\n",
    "& e_a &=& E_a \\\\\n",
    "& v_a &=& V_a \\\\\n",
    "& \\phi_f &=& \\text{constant} \\\\\n",
    "& K_e = K_t &=& \\text{constant} \\\\\n",
    "\\end{eqnarray}$\n",
    "\n",
    "$\\begin{eqnarray}\n",
    "& \\omega_{NL} &=& \\frac{E_a}{K_e} &=& \\frac{V_a - I_a R_a}{K_e}\\Bigg|_{I_a = t_{em}/K_t} &=& \\frac{V_a}{K_e}-\\frac{R_a}{K_e K_t}t_{em} & \\text{[Speed rad/sec]} \\\\[0.5em]\n",
    "& t_{em} &=& K_t I_a &=& K_t \\frac{V_a-E_a}{R_a} &=& \\frac{K_t}{R_a}V_a - \\frac{K_e K_t}{R_a}\\omega_{NL} & \\text{[Torque }N\\cdot m\\text{]} \\\\[0.5em]\n",
    "\\end{eqnarray}$\n",
    "\n",
    "Motor Constant $K_m$  $[\\frac{\\text{Torque}}{\\sqrt{\\text{Watt}}}]$\n",
    "\n",
    "$\\begin{eqnarray}\n",
    "& K_m^2 &=& \\frac{K_e K_t}{R_a} &=& \\frac{K_e K_t}{R_a}\\frac{I_a^2}{I_a^2} &=& \\frac{T_{em}^2}{P_{\\text{LOSS}}} \\\\[0.5em]\n",
    "& K_m &=& \\frac{T_{em}}{\\sqrt{P_{\\text{LOSS}}}} \n",
    "\\end{eqnarray}$\n",
    "\n",
    "$\\begin{eqnarray}\n",
    "& \\text{slope} &=& \\frac{-R_a}{K_e K_t} &=& \\frac{-1}{K_m^2}\n",
    "\\end{eqnarray}$\n",
    "\n",
    "<hr>"
   ]
  },
  {
   "cell_type": "markdown",
   "metadata": {},
   "source": [
    "**Series Wound DC Motor**\n",
    "\n",
    "(Steady State)\n",
    "\n",
    "$\\begin{eqnarray}\n",
    "& T_{SS}(\\omega) &\\propto& \\frac{V_a^2}{\\omega^2} \\\\\n",
    "& T_{SS}(\\omega) &=& \\frac{K_f V_a^2}{(R_a+R_f+K_f \\omega)^2} \\\\[0.5em]\n",
    "& E_a &=& K_e \\omega = I K_f \\omega \\\\[0.5em]\n",
    "& V_{SS} &=& (R_a + R_f)I + E_a &=& (R_a + R_f)I + I K_f \\omega \\\\[0.5em]\n",
    "& I &=& \\frac{V_{SS}}{R_a + R_f + K_f \\omega} \\\\[0.5em]\n",
    "& T_em &=& K_t I = K_f I^2 \\\\[0.5em]\n",
    "& &=& \\frac{V_{SS}^2}{(R_a + R_f + K_f \\omega)^2}\n",
    "\\end{eqnarray}$\n",
    "\n",
    "<hr>"
   ]
  },
  {
   "cell_type": "markdown",
   "metadata": {},
   "source": [
    "**Dynamics**\n",
    "\n",
    "Laplace: $\\frac{d}{dt} \\rightarrow p$ <br>\n",
    "\n",
    "$\\begin{align}\n",
    "  \\begin{array}{ll}\n",
    "  \\text{Equation} & \\text{Time Domain Representation} & \\text{LaPlace Domain Representation} \\\\[0.5em]\n",
    "  \\text{Armature} & v_a(t) = R_a i_a(t) + L_a \\frac{di_a(t)}{dt} + e_a(t) & V_a(p) = R_a I_a(p) + L_a I_a(p)p  + E_a(p) \\\\[0.5em]\n",
    "  \\text{Field} & v_f(t) = R_f i_f(t) + L_f \\frac{di_f(t)}{dt} & V_f(p) = R_f I_f(p) + L_f  I_f(p)p \\\\[0.5em]\n",
    "  \\text{Mechanical} & J\\frac{d\\omega(t)}{dt} + b\\omega(t) + t_L(t) = t_{em}(t) & J\\Omega(p)p + b\\Omega(p) + T_L(p) = T_{em}(p)\n",
    "  \\end{array}\n",
    "\\end{align}$"
   ]
  },
  {
   "cell_type": "markdown",
   "metadata": {},
   "source": [
    "**Dynamic Model**"
   ]
  },
  {
   "cell_type": "markdown",
   "metadata": {},
   "source": []
  },
  {
   "cell_type": "markdown",
   "metadata": {},
   "source": []
  }
 ],
 "metadata": {
  "kernelspec": {
   "display_name": "Python 3",
   "language": "python",
   "name": "python3"
  },
  "language_info": {
   "codemirror_mode": {
    "name": "ipython",
    "version": 3
   },
   "file_extension": ".py",
   "mimetype": "text/x-python",
   "name": "python",
   "nbconvert_exporter": "python",
   "pygments_lexer": "ipython3",
   "version": "3.7.3"
  }
 },
 "nbformat": 4,
 "nbformat_minor": 2
}
